{
  "nbformat": 4,
  "nbformat_minor": 0,
  "metadata": {
    "colab": {
      "name": "PID Project.ipynb",
      "provenance": []
    },
    "kernelspec": {
      "name": "python3",
      "display_name": "Python 3"
    }
  },
  "cells": [
    {
      "cell_type": "markdown",
      "metadata": {
        "id": "3jXtwPRpyIf5"
      },
      "source": [
        "# **Prediction of onset of diabetes using diagnostic features**\n",
        "Pima Indian Diabetes dataset has been used in this project."
      ]
    },
    {
      "cell_type": "markdown",
      "metadata": {
        "id": "9h4JFMUAyqYm"
      },
      "source": [
        "\n",
        "\n",
        "> *Data import and Preprocessing*\n",
        "\n"
      ]
    },
    {
      "cell_type": "code",
      "metadata": {
        "colab": {
          "base_uri": "https://localhost:8080/"
        },
        "id": "G_3JZ4_dayHt",
        "outputId": "fa1b51d5-c1cb-4a48-f0b6-0734f4cde9d5"
      },
      "source": [
        "import pandas as pd\n",
        "import numpy as np\n",
        "\n",
        "data = pd.read_csv('diabetes.csv')\n",
        "data.head()\n",
        "\n",
        "data.isnull().sum()"
      ],
      "execution_count": 2,
      "outputs": [
        {
          "output_type": "execute_result",
          "data": {
            "text/plain": [
              "Pregnancies                 0\n",
              "Glucose                     0\n",
              "BloodPressure               0\n",
              "SkinThickness               0\n",
              "Insulin                     0\n",
              "BMI                         0\n",
              "DiabetesPedigreeFunction    0\n",
              "Age                         0\n",
              "Outcome                     0\n",
              "dtype: int64"
            ]
          },
          "metadata": {
            "tags": []
          },
          "execution_count": 2
        }
      ]
    },
    {
      "cell_type": "markdown",
      "metadata": {
        "id": "f1Hyxpjhcyzz"
      },
      "source": [
        "> *Replacing 0 values*\n",
        "\n"
      ]
    },
    {
      "cell_type": "code",
      "metadata": {
        "id": "NwMD59avcsRf"
      },
      "source": [
        "#Replacing 0 values\n",
        "\n",
        "df1 = data.loc[data['Outcome'] == 1]\n",
        "df2 = data.loc[data['Outcome'] == 0]\n",
        "df1 = df1.replace({'BloodPressure':0}, np.median(df1['BloodPressure']))\n",
        "df1 = df1.replace({'BMI':0}, np.median(df1['BMI']))\n",
        "df1 = df1.replace({'Glucose':0}, np.median(df1['Glucose']))\n",
        "df1 = df1.replace({'Insulin':0}, np.median(df1['Insulin']))\n",
        "df1 = df1.replace({'SkinThickness':0}, np.median(df1['SkinThickness']))\n",
        "df2 = df2.replace({'BloodPressure':0}, np.median(df2['BloodPressure']))\n",
        "df2 = df2.replace({'BMI':0}, np.median(df2['BMI']))\n",
        "df2 = df2.replace({'Glucose':0}, np.median(df2['Glucose']))\n",
        "df2 = df2.replace({'Insulin':0}, np.median(df2['Insulin']))\n",
        "df2 = df2.replace({'SkinThickness':0}, np.median(df2['SkinThickness']))\n"
      ],
      "execution_count": 3,
      "outputs": []
    },
    {
      "cell_type": "code",
      "metadata": {
        "colab": {
          "base_uri": "https://localhost:8080/",
          "height": 297
        },
        "id": "sh8eWoC6cuvc",
        "outputId": "ab9df6f7-8e50-4b38-d833-1b27bc8504fc"
      },
      "source": [
        "dataframe = [df1, df2]\n",
        "data = pd.concat(dataframe)\n",
        "\n",
        "data.head()\n",
        "data.describe()"
      ],
      "execution_count": 4,
      "outputs": [
        {
          "output_type": "execute_result",
          "data": {
            "text/html": [
              "<div>\n",
              "<style scoped>\n",
              "    .dataframe tbody tr th:only-of-type {\n",
              "        vertical-align: middle;\n",
              "    }\n",
              "\n",
              "    .dataframe tbody tr th {\n",
              "        vertical-align: top;\n",
              "    }\n",
              "\n",
              "    .dataframe thead th {\n",
              "        text-align: right;\n",
              "    }\n",
              "</style>\n",
              "<table border=\"1\" class=\"dataframe\">\n",
              "  <thead>\n",
              "    <tr style=\"text-align: right;\">\n",
              "      <th></th>\n",
              "      <th>Pregnancies</th>\n",
              "      <th>Glucose</th>\n",
              "      <th>BloodPressure</th>\n",
              "      <th>SkinThickness</th>\n",
              "      <th>Insulin</th>\n",
              "      <th>BMI</th>\n",
              "      <th>DiabetesPedigreeFunction</th>\n",
              "      <th>Age</th>\n",
              "      <th>Outcome</th>\n",
              "    </tr>\n",
              "  </thead>\n",
              "  <tbody>\n",
              "    <tr>\n",
              "      <th>count</th>\n",
              "      <td>768.000000</td>\n",
              "      <td>768.000000</td>\n",
              "      <td>768.000000</td>\n",
              "      <td>768.00000</td>\n",
              "      <td>768.000000</td>\n",
              "      <td>768.000000</td>\n",
              "      <td>768.000000</td>\n",
              "      <td>768.000000</td>\n",
              "      <td>768.000000</td>\n",
              "    </tr>\n",
              "    <tr>\n",
              "      <th>mean</th>\n",
              "      <td>3.845052</td>\n",
              "      <td>121.677083</td>\n",
              "      <td>72.378906</td>\n",
              "      <td>27.43099</td>\n",
              "      <td>91.783854</td>\n",
              "      <td>32.433919</td>\n",
              "      <td>0.471876</td>\n",
              "      <td>33.240885</td>\n",
              "      <td>0.348958</td>\n",
              "    </tr>\n",
              "    <tr>\n",
              "      <th>std</th>\n",
              "      <td>3.369578</td>\n",
              "      <td>30.464161</td>\n",
              "      <td>12.104431</td>\n",
              "      <td>9.32146</td>\n",
              "      <td>108.121136</td>\n",
              "      <td>6.880664</td>\n",
              "      <td>0.331329</td>\n",
              "      <td>11.760232</td>\n",
              "      <td>0.476951</td>\n",
              "    </tr>\n",
              "    <tr>\n",
              "      <th>min</th>\n",
              "      <td>0.000000</td>\n",
              "      <td>44.000000</td>\n",
              "      <td>24.000000</td>\n",
              "      <td>7.00000</td>\n",
              "      <td>0.000000</td>\n",
              "      <td>18.200000</td>\n",
              "      <td>0.078000</td>\n",
              "      <td>21.000000</td>\n",
              "      <td>0.000000</td>\n",
              "    </tr>\n",
              "    <tr>\n",
              "      <th>25%</th>\n",
              "      <td>1.000000</td>\n",
              "      <td>99.750000</td>\n",
              "      <td>64.000000</td>\n",
              "      <td>21.00000</td>\n",
              "      <td>39.000000</td>\n",
              "      <td>27.500000</td>\n",
              "      <td>0.243750</td>\n",
              "      <td>24.000000</td>\n",
              "      <td>0.000000</td>\n",
              "    </tr>\n",
              "    <tr>\n",
              "      <th>50%</th>\n",
              "      <td>3.000000</td>\n",
              "      <td>117.000000</td>\n",
              "      <td>72.000000</td>\n",
              "      <td>27.00000</td>\n",
              "      <td>39.000000</td>\n",
              "      <td>32.050000</td>\n",
              "      <td>0.372500</td>\n",
              "      <td>29.000000</td>\n",
              "      <td>0.000000</td>\n",
              "    </tr>\n",
              "    <tr>\n",
              "      <th>75%</th>\n",
              "      <td>6.000000</td>\n",
              "      <td>140.250000</td>\n",
              "      <td>80.000000</td>\n",
              "      <td>32.00000</td>\n",
              "      <td>127.250000</td>\n",
              "      <td>36.600000</td>\n",
              "      <td>0.626250</td>\n",
              "      <td>41.000000</td>\n",
              "      <td>1.000000</td>\n",
              "    </tr>\n",
              "    <tr>\n",
              "      <th>max</th>\n",
              "      <td>17.000000</td>\n",
              "      <td>199.000000</td>\n",
              "      <td>122.000000</td>\n",
              "      <td>99.00000</td>\n",
              "      <td>846.000000</td>\n",
              "      <td>67.100000</td>\n",
              "      <td>2.420000</td>\n",
              "      <td>81.000000</td>\n",
              "      <td>1.000000</td>\n",
              "    </tr>\n",
              "  </tbody>\n",
              "</table>\n",
              "</div>"
            ],
            "text/plain": [
              "       Pregnancies     Glucose  ...         Age     Outcome\n",
              "count   768.000000  768.000000  ...  768.000000  768.000000\n",
              "mean      3.845052  121.677083  ...   33.240885    0.348958\n",
              "std       3.369578   30.464161  ...   11.760232    0.476951\n",
              "min       0.000000   44.000000  ...   21.000000    0.000000\n",
              "25%       1.000000   99.750000  ...   24.000000    0.000000\n",
              "50%       3.000000  117.000000  ...   29.000000    0.000000\n",
              "75%       6.000000  140.250000  ...   41.000000    1.000000\n",
              "max      17.000000  199.000000  ...   81.000000    1.000000\n",
              "\n",
              "[8 rows x 9 columns]"
            ]
          },
          "metadata": {
            "tags": []
          },
          "execution_count": 4
        }
      ]
    },
    {
      "cell_type": "markdown",
      "metadata": {
        "id": "5Urm6zzxzWDq"
      },
      "source": [
        "> *Balancing Minority Class Data*"
      ]
    },
    {
      "cell_type": "code",
      "metadata": {
        "colab": {
          "base_uri": "https://localhost:8080/"
        },
        "id": "t8I9hDtEc49F",
        "outputId": "444e518f-fd04-4421-b653-48cb1cda8292"
      },
      "source": [
        "data.Outcome.value_counts()"
      ],
      "execution_count": 5,
      "outputs": [
        {
          "output_type": "execute_result",
          "data": {
            "text/plain": [
              "0    500\n",
              "1    268\n",
              "Name: Outcome, dtype: int64"
            ]
          },
          "metadata": {
            "tags": []
          },
          "execution_count": 5
        }
      ]
    },
    {
      "cell_type": "code",
      "metadata": {
        "colab": {
          "base_uri": "https://localhost:8080/"
        },
        "id": "DkBYKkT_c-W7",
        "outputId": "b138601c-b0a3-4ad4-d3b6-4bef901ab45b"
      },
      "source": [
        "pip install imbalanced-learn "
      ],
      "execution_count": 6,
      "outputs": [
        {
          "output_type": "stream",
          "text": [
            "Requirement already satisfied: imbalanced-learn in /usr/local/lib/python3.7/dist-packages (0.4.3)\n",
            "Requirement already satisfied: numpy>=1.8.2 in /usr/local/lib/python3.7/dist-packages (from imbalanced-learn) (1.19.5)\n",
            "Requirement already satisfied: scikit-learn>=0.20 in /usr/local/lib/python3.7/dist-packages (from imbalanced-learn) (0.22.2.post1)\n",
            "Requirement already satisfied: scipy>=0.13.3 in /usr/local/lib/python3.7/dist-packages (from imbalanced-learn) (1.4.1)\n",
            "Requirement already satisfied: joblib>=0.11 in /usr/local/lib/python3.7/dist-packages (from scikit-learn>=0.20->imbalanced-learn) (1.0.1)\n"
          ],
          "name": "stdout"
        }
      ]
    },
    {
      "cell_type": "code",
      "metadata": {
        "colab": {
          "base_uri": "https://localhost:8080/"
        },
        "id": "sXZ68ZsudDdH",
        "outputId": "699e459e-8a1f-4843-e094-0fec38b5585d"
      },
      "source": [
        "from collections import Counter\n",
        "from imblearn.over_sampling import SMOTE\n",
        "oversample = SMOTE()\n",
        "X = data.drop(['Outcome'], axis=1)\n",
        "y = data['Outcome']\n",
        "counter = Counter(y)\n",
        "print(counter)\n",
        "X, y = oversample.fit_resample(X, y)\n",
        "counter = Counter(y)\n",
        "print(counter)\n",
        "a = pd.DataFrame(X)\n",
        "b = pd.DataFrame(y)\n",
        "data1 = pd.concat([a,b], axis=1)\n",
        "data1.columns = data.columns\n",
        "data1.Outcome.value_counts()"
      ],
      "execution_count": 7,
      "outputs": [
        {
          "output_type": "stream",
          "text": [
            "/usr/local/lib/python3.7/dist-packages/sklearn/externals/six.py:31: FutureWarning: The module is deprecated in version 0.21 and will be removed in version 0.23 since we've dropped support for Python 2.7. Please rely on the official version of six (https://pypi.org/project/six/).\n",
            "  \"(https://pypi.org/project/six/).\", FutureWarning)\n"
          ],
          "name": "stderr"
        },
        {
          "output_type": "stream",
          "text": [
            "Counter({0: 500, 1: 268})\n",
            "Counter({1: 500, 0: 500})\n"
          ],
          "name": "stdout"
        },
        {
          "output_type": "stream",
          "text": [
            "/usr/local/lib/python3.7/dist-packages/sklearn/utils/deprecation.py:144: FutureWarning: The sklearn.neighbors.base module is  deprecated in version 0.22 and will be removed in version 0.24. The corresponding classes / functions should instead be imported from sklearn.neighbors. Anything that cannot be imported from sklearn.neighbors is now part of the private API.\n",
            "  warnings.warn(message, FutureWarning)\n",
            "/usr/local/lib/python3.7/dist-packages/sklearn/utils/deprecation.py:87: FutureWarning: Function safe_indexing is deprecated; safe_indexing is deprecated in version 0.22 and will be removed in version 0.24.\n",
            "  warnings.warn(msg, category=FutureWarning)\n"
          ],
          "name": "stderr"
        },
        {
          "output_type": "execute_result",
          "data": {
            "text/plain": [
              "1    500\n",
              "0    500\n",
              "Name: Outcome, dtype: int64"
            ]
          },
          "metadata": {
            "tags": []
          },
          "execution_count": 7
        }
      ]
    },
    {
      "cell_type": "markdown",
      "metadata": {
        "id": "pefYsf30zh2D"
      },
      "source": [
        "> *Scaling Data*"
      ]
    },
    {
      "cell_type": "code",
      "metadata": {
        "id": "QT1MlafqdIMT"
      },
      "source": [
        "from sklearn import preprocessing\n",
        "stdscaler = preprocessing.StandardScaler()\n",
        "data2=pd.DataFrame(stdscaler.fit_transform(data1),columns = data.columns)\n",
        "scaler = preprocessing.MinMaxScaler()\n",
        "df_scaled = pd.DataFrame(scaler.fit_transform(data2),columns = data.columns)"
      ],
      "execution_count": 8,
      "outputs": []
    },
    {
      "cell_type": "markdown",
      "metadata": {
        "id": "kCXb7h9-zpP1"
      },
      "source": [
        "> *Running 10 fold CV without any filter*"
      ]
    },
    {
      "cell_type": "code",
      "metadata": {
        "colab": {
          "base_uri": "https://localhost:8080/"
        },
        "id": "qLVfYrFTdOvu",
        "outputId": "79a37215-e3af-4059-a014-8f7d26d4dc29"
      },
      "source": [
        "from numpy import mean\n",
        "from numpy import std\n",
        "from sklearn.model_selection import train_test_split\n",
        "from sklearn.datasets import make_classification\n",
        "from sklearn.model_selection import KFold\n",
        "from sklearn.model_selection import cross_val_score\n",
        "X = df_scaled.drop(['Outcome'], axis=1)\n",
        "y = df_scaled.Outcome\n",
        "cv = KFold(n_splits=10, random_state=1, shuffle=True)\n",
        "from sklearn.ensemble import RandomForestClassifier\n",
        "from sklearn.neighbors import KNeighborsClassifier\n",
        "from sklearn.naive_bayes import GaussianNB\n",
        "RFC = RandomForestClassifier()\n",
        "KNN=KNeighborsClassifier()\n",
        "NB=GaussianNB()\n",
        "scores = cross_val_score(RFC, X, y, scoring='accuracy', cv=cv, n_jobs=-1)\n",
        "print('RFC Accuracy 10 fold: %.4f (%.3f)' % (mean(scores)*100, std(scores)))\n",
        "scores = cross_val_score(KNN, X, y, scoring='accuracy', cv=cv, n_jobs=-1)\n",
        "print('KNN Accuracy 10 fold: %.4f (%.3f)' % (mean(scores)*100, std(scores)))\n",
        "scores = cross_val_score(NB, X, y, scoring='accuracy', cv=cv, n_jobs=-1)\n",
        "print('Naive Bayes Accuracy 10 fold: %.4f (%.3f)' % (mean(scores)*100, std(scores)))"
      ],
      "execution_count": 11,
      "outputs": [
        {
          "output_type": "stream",
          "text": [
            "RFC Accuracy 10 fold: 91.4000 (0.016)\n",
            "KNN Accuracy 10 fold: 79.6000 (0.029)\n",
            "Naive Bayes Accuracy 10 fold: 74.5000 (0.030)\n"
          ],
          "name": "stdout"
        }
      ]
    },
    {
      "cell_type": "markdown",
      "metadata": {
        "id": "pEJvi2vmendQ"
      },
      "source": [
        "#Filter Ensemble\n"
      ]
    },
    {
      "cell_type": "markdown",
      "metadata": {
        "id": "7K4N_GMv0EBm"
      },
      "source": [
        "> *Chi-Square Test*"
      ]
    },
    {
      "cell_type": "code",
      "metadata": {
        "colab": {
          "base_uri": "https://localhost:8080/"
        },
        "id": "58YBT-Meehux",
        "outputId": "82262b2a-0199-40aa-b047-15c5849321f4"
      },
      "source": [
        "import scipy.stats as stats\n",
        "def chi_sqr(test_column,output_column):\n",
        "    observed_value = pd.crosstab(test_column,output_column)\n",
        "    val = stats.chi2_contingency(observed_value)\n",
        "    expected_value=val[3]\n",
        "    for o,e in zip(observed_value.values,expected_value):\n",
        "        chi_2 = sum([(o-e)**2./e])       \n",
        "    chi2_stat = np.sum(chi_2)\n",
        "    return chi2_stat\n",
        "    \n",
        "df1 = df_scaled.drop(['Outcome'], axis=1)\n",
        "top_n1 =[]\n",
        "for i in df1.columns.values:\n",
        "    top_n1.append(chi_sqr(df1[i],df_scaled['Outcome']))    \n",
        "col_name1 = np.array(X.columns)\n",
        "a1 = pd.DataFrame(top_n1)\n",
        "b1 = pd.DataFrame(col_name1)\n",
        "info1 = pd.concat([a1,b1], axis=1)\n",
        "info1.columns = ['Score','Features']\n",
        "top1 = info1.nsmallest(50,'Score')\n",
        "ft1 = np.array(top1['Features'])\n",
        "top1\n",
        "ft1"
      ],
      "execution_count": 12,
      "outputs": [
        {
          "output_type": "execute_result",
          "data": {
            "text/plain": [
              "array(['Pregnancies', 'Glucose', 'BloodPressure', 'SkinThickness',\n",
              "       'Insulin', 'BMI', 'DiabetesPedigreeFunction', 'Age'], dtype=object)"
            ]
          },
          "metadata": {
            "tags": []
          },
          "execution_count": 12
        }
      ]
    },
    {
      "cell_type": "markdown",
      "metadata": {
        "id": "oiqf5rlT0KTf"
      },
      "source": [
        "> *Mutual Information*"
      ]
    },
    {
      "cell_type": "code",
      "metadata": {
        "colab": {
          "base_uri": "https://localhost:8080/"
        },
        "id": "GZ3H6wKwe_tK",
        "outputId": "f6719131-9fdd-4c2f-c544-03610edccce0"
      },
      "source": [
        "from sklearn.feature_selection import mutual_info_classif\n",
        "X = df_scaled.drop(['Outcome'], axis=1)\n",
        "y = df_scaled.Outcome\n",
        "res = mutual_info_classif(X,y,discrete_features=True)\n",
        "col_name2 = np.array(X.columns)\n",
        "a2 = pd.DataFrame(res)\n",
        "b2 = pd.DataFrame(col_name2)\n",
        "info2 = pd.concat([a2,b2], axis=1)\n",
        "info2.columns = ['Info_Gain','Features']\n",
        "top2 = info2.nlargest(50,'Info_Gain')\n",
        "ft2 = np.array(top2['Features'])\n",
        "ft2\n"
      ],
      "execution_count": 15,
      "outputs": [
        {
          "output_type": "execute_result",
          "data": {
            "text/plain": [
              "array(['Insulin', 'DiabetesPedigreeFunction', 'BMI', 'Glucose',\n",
              "       'SkinThickness', 'Age', 'BloodPressure', 'Pregnancies'],\n",
              "      dtype=object)"
            ]
          },
          "metadata": {
            "tags": []
          },
          "execution_count": 15
        }
      ]
    },
    {
      "cell_type": "code",
      "metadata": {
        "colab": {
          "base_uri": "https://localhost:8080/"
        },
        "id": "S_Jo4SS5gY1z",
        "outputId": "50b5f3b2-d803-48e3-b098-3b494d595ada"
      },
      "source": [
        "pip install skrebate"
      ],
      "execution_count": 18,
      "outputs": [
        {
          "output_type": "stream",
          "text": [
            "Collecting skrebate\n",
            "  Downloading https://files.pythonhosted.org/packages/ee/04/1fa0073d145cc38e1396ef21e8c6be998d152555c64d1d54db9ce8e2c62c/skrebate-0.62.tar.gz\n",
            "Requirement already satisfied: numpy in /usr/local/lib/python3.7/dist-packages (from skrebate) (1.19.5)\n",
            "Requirement already satisfied: scipy in /usr/local/lib/python3.7/dist-packages (from skrebate) (1.4.1)\n",
            "Requirement already satisfied: scikit-learn in /usr/local/lib/python3.7/dist-packages (from skrebate) (0.22.2.post1)\n",
            "Requirement already satisfied: joblib>=0.11 in /usr/local/lib/python3.7/dist-packages (from scikit-learn->skrebate) (1.0.1)\n",
            "Building wheels for collected packages: skrebate\n",
            "  Building wheel for skrebate (setup.py) ... \u001b[?25l\u001b[?25hdone\n",
            "  Created wheel for skrebate: filename=skrebate-0.62-cp37-none-any.whl size=29256 sha256=b6242e3e2977585d038fff5b6c87ae7ecbeb7162faf45b5a3f305eaa23b0df9f\n",
            "  Stored in directory: /root/.cache/pip/wheels/6b/0e/2f/540392932d3a01060f04c242d3b9bee80dfd87f63d80b3a9a0\n",
            "Successfully built skrebate\n",
            "Installing collected packages: skrebate\n",
            "Successfully installed skrebate-0.62\n"
          ],
          "name": "stdout"
        }
      ]
    },
    {
      "cell_type": "markdown",
      "metadata": {
        "id": "t1fr8ua-0R_z"
      },
      "source": [
        "> *ReliefF*"
      ]
    },
    {
      "cell_type": "code",
      "metadata": {
        "colab": {
          "base_uri": "https://localhost:8080/"
        },
        "id": "Yvr-Ka4UgFBJ",
        "outputId": "49740d6f-47cd-4c00-ad7f-faa000b3c8ac"
      },
      "source": [
        "from sklearn.pipeline import make_pipeline\n",
        "from skrebate import ReliefF\n",
        "from sklearn.pipeline import make_pipeline\n",
        "from skrebate import ReliefF\n",
        "features, classes = df_scaled.drop('Outcome', axis=1).values, df_scaled['Outcome'].values\n",
        "arr = features.astype('float64')\n",
        "fs = ReliefF()\n",
        "fs.fit(arr, classes)\n",
        "top_n3=[]\n",
        "names=[]\n",
        "for feature_name, feature_score in zip(df_scaled.drop('Outcome', axis=1).columns, fs.feature_importances_):\n",
        "    top_n3.append(feature_score)\n",
        "    names.append(feature_name)    \n",
        "a3 = pd.DataFrame(top_n3)\n",
        "b3 =pd.DataFrame(names)\n",
        "info3 = pd.concat([a3,b3], axis=1)\n",
        "info3.columns = ['Score','Features'] \n",
        "top3 = info3.nlargest(50,'Score')\n",
        "ft3 = np.array(top3['Features'])\n",
        "ft3\n"
      ],
      "execution_count": 19,
      "outputs": [
        {
          "output_type": "execute_result",
          "data": {
            "text/plain": [
              "array(['Glucose', 'Insulin', 'Age', 'SkinThickness', 'BMI', 'Pregnancies',\n",
              "       'DiabetesPedigreeFunction', 'BloodPressure'], dtype=object)"
            ]
          },
          "metadata": {
            "tags": []
          },
          "execution_count": 19
        }
      ]
    },
    {
      "cell_type": "markdown",
      "metadata": {
        "id": "yXpUbO5U1Rsw"
      },
      "source": [
        "# Selecting top n features"
      ]
    },
    {
      "cell_type": "markdown",
      "metadata": {
        "id": "BM1JOYZY1eaY"
      },
      "source": [
        "> *Union Function* "
      ]
    },
    {
      "cell_type": "code",
      "metadata": {
        "id": "KNsVg8tbggyX"
      },
      "source": [
        "from functools import reduce\n",
        "def top_fs_union(n):\n",
        "    f1 = ft1[:n]\n",
        "    f2 = ft2[:n]\n",
        "    f3 = ft3[:n]\n",
        "    return(reduce(np.union1d, (f1,f2,f3)))"
      ],
      "execution_count": 21,
      "outputs": []
    },
    {
      "cell_type": "markdown",
      "metadata": {
        "id": "8mr4lLfw1kOr"
      },
      "source": [
        "> *Union function call with selected top n*"
      ]
    },
    {
      "cell_type": "code",
      "metadata": {
        "id": "kJE0a3Wai2GO"
      },
      "source": [
        "def assemble_run(n,classifier):\n",
        "  top_fs=top_fs_union(n)\n",
        "  top_fs=np.append(top_fs,['Outcome'], axis=0)\n",
        "  dfs = df_scaled.loc[:,top_fs]\n",
        "  X = dfs.drop(['Outcome'], axis=1)\n",
        "  y = dfs['Outcome']\n",
        "  model = classifier()\n",
        "  scores = cross_val_score(model, X, y, scoring='accuracy', cv=cv, n_jobs=-1)\n",
        "  print('Accuracy 10 fold: %.4f (%.3f)' % (mean(scores)*100, std(scores)))"
      ],
      "execution_count": 26,
      "outputs": []
    },
    {
      "cell_type": "markdown",
      "metadata": {
        "id": "01TwwdK-1wnk"
      },
      "source": [
        "# Checking Accuracy"
      ]
    },
    {
      "cell_type": "markdown",
      "metadata": {
        "id": "rA4FXbCb15PZ"
      },
      "source": [
        "> *RANDOM FOREST CLASSIFIER*"
      ]
    },
    {
      "cell_type": "code",
      "metadata": {
        "colab": {
          "base_uri": "https://localhost:8080/"
        },
        "id": "bqdrX2SKjC8u",
        "outputId": "21cf6dcd-e7fe-4df8-b759-7b3a990f4091"
      },
      "source": [
        "#Feature Subset by Union of Best Features from each\n",
        "\n",
        "RFC1 = assemble_run(1,RandomForestClassifier)\n",
        "RFC1 = assemble_run(2,RandomForestClassifier)\n",
        "RFC1 = assemble_run(3,RandomForestClassifier)\n",
        "RFC1 = assemble_run(4,RandomForestClassifier)\n",
        "RFC1 = assemble_run(5,RandomForestClassifier)\n",
        "RFC1 = assemble_run(6,RandomForestClassifier)\n",
        "RFC2 = assemble_run(7,RandomForestClassifier)\n",
        "RFC3 = assemble_run(8,RandomForestClassifier)"
      ],
      "execution_count": 27,
      "outputs": [
        {
          "output_type": "stream",
          "text": [
            "Accuracy 10 fold: 88.4000 (0.037)\n",
            "Accuracy 10 fold: 90.1000 (0.034)\n",
            "Accuracy 10 fold: 91.7000 (0.022)\n",
            "Accuracy 10 fold: 92.1000 (0.023)\n",
            "Accuracy 10 fold: 91.9000 (0.024)\n",
            "Accuracy 10 fold: 91.4000 (0.024)\n",
            "Accuracy 10 fold: 91.8000 (0.023)\n",
            "Accuracy 10 fold: 92.5000 (0.021)\n"
          ],
          "name": "stdout"
        }
      ]
    },
    {
      "cell_type": "markdown",
      "metadata": {
        "id": "VTW4oyMQ2BTO"
      },
      "source": [
        "> *KNN CLASSIFIER*"
      ]
    },
    {
      "cell_type": "code",
      "metadata": {
        "colab": {
          "base_uri": "https://localhost:8080/"
        },
        "id": "8QLJ6PK7jg1Q",
        "outputId": "57d03142-3df2-47a0-e708-8fe81aae50d8"
      },
      "source": [
        "#Feature Subset by Union of Best Features from each\n",
        "\n",
        "KNN1 = assemble_run(5,KNeighborsClassifier)\n",
        "KNN1 = assemble_run(10,KNeighborsClassifier)\n",
        "KNN1 = assemble_run(15,KNeighborsClassifier)\n",
        "KNN1 = assemble_run(20,KNeighborsClassifier)\n",
        "KNN1 = assemble_run(25,KNeighborsClassifier)\n",
        "KNN1 = assemble_run(30,KNeighborsClassifier)\n",
        "KNN1 = assemble_run(35,KNeighborsClassifier)\n",
        "KNN1 = assemble_run(40,KNeighborsClassifier)\n",
        "KNN1 = assemble_run(45,KNeighborsClassifier)\n",
        "KNN1 = assemble_run(50,KNeighborsClassifier)\n"
      ],
      "execution_count": 28,
      "outputs": [
        {
          "output_type": "stream",
          "text": [
            "Accuracy 10 fold: 79.6000 (0.029)\n",
            "Accuracy 10 fold: 79.6000 (0.029)\n",
            "Accuracy 10 fold: 79.6000 (0.029)\n",
            "Accuracy 10 fold: 79.6000 (0.029)\n",
            "Accuracy 10 fold: 79.6000 (0.029)\n",
            "Accuracy 10 fold: 79.6000 (0.029)\n",
            "Accuracy 10 fold: 79.6000 (0.029)\n",
            "Accuracy 10 fold: 79.6000 (0.029)\n",
            "Accuracy 10 fold: 79.6000 (0.029)\n",
            "Accuracy 10 fold: 79.6000 (0.029)\n"
          ],
          "name": "stdout"
        }
      ]
    },
    {
      "cell_type": "markdown",
      "metadata": {
        "id": "7nJgLjGy2G-b"
      },
      "source": [
        "> *NAIVE BAYES CLASSIFIER*"
      ]
    },
    {
      "cell_type": "code",
      "metadata": {
        "colab": {
          "base_uri": "https://localhost:8080/"
        },
        "id": "LIFI01RVjmFJ",
        "outputId": "eb4da3e7-7000-4164-e04e-a82abc3a98b6"
      },
      "source": [
        "#Feature Subset by Union of Best Features from each\n",
        "NB1 = assemble_run(5,GaussianNB)\n",
        "NB1 = assemble_run(10,GaussianNB)\n",
        "NB1 = assemble_run(15,GaussianNB)\n",
        "NB1 = assemble_run(20,GaussianNB)\n",
        "NB1 = assemble_run(25,GaussianNB)\n",
        "NB1 = assemble_run(30,GaussianNB)\n",
        "NB1 = assemble_run(35,GaussianNB)\n",
        "NB1 = assemble_run(40,GaussianNB)\n",
        "NB1 = assemble_run(45,GaussianNB)\n",
        "NB1 = assemble_run(50,GaussianNB)"
      ],
      "execution_count": 29,
      "outputs": [
        {
          "output_type": "stream",
          "text": [
            "Accuracy 10 fold: 74.5000 (0.030)\n",
            "Accuracy 10 fold: 74.5000 (0.030)\n",
            "Accuracy 10 fold: 74.5000 (0.030)\n",
            "Accuracy 10 fold: 74.5000 (0.030)\n",
            "Accuracy 10 fold: 74.5000 (0.030)\n",
            "Accuracy 10 fold: 74.5000 (0.030)\n",
            "Accuracy 10 fold: 74.5000 (0.030)\n",
            "Accuracy 10 fold: 74.5000 (0.030)\n",
            "Accuracy 10 fold: 74.5000 (0.030)\n",
            "Accuracy 10 fold: 74.5000 (0.030)\n"
          ],
          "name": "stdout"
        }
      ]
    },
    {
      "cell_type": "markdown",
      "metadata": {
        "id": "m9-IrkIK2YPr"
      },
      "source": [
        "> *Accuracy check for individal feature set*"
      ]
    },
    {
      "cell_type": "code",
      "metadata": {
        "id": "oZkPZFw6jras"
      },
      "source": [
        "def fs_run(classifier,feature_set,no_of_attr):\n",
        "  ft=feature_set[:no_of_attr]\n",
        "  top_fs=np.append(ft,['Outcome'], axis=0)\n",
        "  dfs = df_scaled.loc[:,top_fs]\n",
        "  X = dfs.drop(['Outcome'], axis=1)\n",
        "  y = dfs['Outcome']\n",
        "  model = classifier()\n",
        "  scores = cross_val_score(model, X, y, scoring='accuracy', cv=cv, n_jobs=-1)\n",
        "  print('Accuracy 10 fold: %.4f (%.3f)' % (mean(scores)*100, std(scores)))"
      ],
      "execution_count": 30,
      "outputs": []
    },
    {
      "cell_type": "code",
      "metadata": {
        "colab": {
          "base_uri": "https://localhost:8080/"
        },
        "id": "neW8rjHDj19O",
        "outputId": "591e1606-3157-4708-dcf8-09c52e454821"
      },
      "source": [
        "print('Accuracy for Feature set 1 with best attributes:')\n",
        "fs_run(RandomForestClassifier,ft1,4)\n",
        "fs_run(KNeighborsClassifier,ft1,4)\n",
        "fs_run(GaussianNB,ft1,4)\n",
        "print('Accuracy for Feature set 2 with best attributes:')\n",
        "fs_run(RandomForestClassifier,ft2,4)\n",
        "fs_run(KNeighborsClassifier,ft2,4)\n",
        "fs_run(GaussianNB,ft2,4)\n",
        "print('Accuracy for Feature set 3 with best attributes :')\n",
        "fs_run(RandomForestClassifier,ft3,4)\n",
        "fs_run(KNeighborsClassifier,ft3,4)\n",
        "fs_run(GaussianNB,ft3,4)\n"
      ],
      "execution_count": 31,
      "outputs": [
        {
          "output_type": "stream",
          "text": [
            "Accuracy for Feature set 1 with best attributes:\n",
            "Accuracy 10 fold: 83.5000 (0.036)\n",
            "Accuracy 10 fold: 79.2000 (0.049)\n",
            "Accuracy 10 fold: 75.0000 (0.028)\n",
            "Accuracy for Feature set 2 with best attributes:\n",
            "Accuracy 10 fold: 89.4000 (0.034)\n",
            "Accuracy 10 fold: 81.6000 (0.041)\n",
            "Accuracy 10 fold: 73.3000 (0.018)\n",
            "Accuracy for Feature set 3 with best attributes :\n",
            "Accuracy 10 fold: 91.1000 (0.023)\n",
            "Accuracy 10 fold: 83.9000 (0.022)\n",
            "Accuracy 10 fold: 74.0000 (0.029)\n"
          ],
          "name": "stdout"
        }
      ]
    }
  ]
}